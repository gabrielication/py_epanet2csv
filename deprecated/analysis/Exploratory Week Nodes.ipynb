{
 "cells": [
  {
   "cell_type": "code",
   "execution_count": 1,
   "id": "583b5c79",
   "metadata": {},
   "outputs": [],
   "source": [
    "import pandas as pd"
   ]
  },
  {
   "cell_type": "code",
   "execution_count": 26,
   "id": "55778fde",
   "metadata": {},
   "outputs": [],
   "source": [
    "dataset = pd.read_csv('extracted_nodes.csv',\n",
    "                      header=None, index_col=False,\n",
    "                      names=['hour', 'nodeID', 'demand_value', 'head_value', 'pressure_value', 'x_pos', 'y_pos', 'node_type'])"
   ]
  },
  {
   "cell_type": "code",
   "execution_count": 27,
   "id": "1b991cf0",
   "metadata": {},
   "outputs": [
    {
     "data": {
      "text/html": [
       "<div>\n",
       "<style scoped>\n",
       "    .dataframe tbody tr th:only-of-type {\n",
       "        vertical-align: middle;\n",
       "    }\n",
       "\n",
       "    .dataframe tbody tr th {\n",
       "        vertical-align: top;\n",
       "    }\n",
       "\n",
       "    .dataframe thead th {\n",
       "        text-align: right;\n",
       "    }\n",
       "</style>\n",
       "<table border=\"1\" class=\"dataframe\">\n",
       "  <thead>\n",
       "    <tr style=\"text-align: right;\">\n",
       "      <th></th>\n",
       "      <th>hour</th>\n",
       "      <th>nodeID</th>\n",
       "      <th>demand_value</th>\n",
       "      <th>head_value</th>\n",
       "      <th>pressure_value</th>\n",
       "      <th>x_pos</th>\n",
       "      <th>y_pos</th>\n",
       "      <th>node_type</th>\n",
       "    </tr>\n",
       "  </thead>\n",
       "  <tbody>\n",
       "    <tr>\n",
       "      <th>0</th>\n",
       "      <td>0:00:00</td>\n",
       "      <td>8596</td>\n",
       "      <td>0.00</td>\n",
       "      <td>183.18</td>\n",
       "      <td>53.44</td>\n",
       "      <td>494155.35</td>\n",
       "      <td>1379384.78</td>\n",
       "      <td>Junction</td>\n",
       "    </tr>\n",
       "    <tr>\n",
       "      <th>1</th>\n",
       "      <td>0:00:00</td>\n",
       "      <td>8598</td>\n",
       "      <td>0.00</td>\n",
       "      <td>183.18</td>\n",
       "      <td>52.08</td>\n",
       "      <td>494320.25</td>\n",
       "      <td>1379386.96</td>\n",
       "      <td>Junction</td>\n",
       "    </tr>\n",
       "    <tr>\n",
       "      <th>2</th>\n",
       "      <td>0:00:00</td>\n",
       "      <td>8600</td>\n",
       "      <td>0.79</td>\n",
       "      <td>183.18</td>\n",
       "      <td>52.29</td>\n",
       "      <td>494495.39</td>\n",
       "      <td>1379463.39</td>\n",
       "      <td>Junction</td>\n",
       "    </tr>\n",
       "    <tr>\n",
       "      <th>3</th>\n",
       "      <td>0:00:00</td>\n",
       "      <td>8602</td>\n",
       "      <td>0.02</td>\n",
       "      <td>183.18</td>\n",
       "      <td>53.37</td>\n",
       "      <td>494813.77</td>\n",
       "      <td>1379459.41</td>\n",
       "      <td>Junction</td>\n",
       "    </tr>\n",
       "    <tr>\n",
       "      <th>4</th>\n",
       "      <td>0:00:00</td>\n",
       "      <td>8604</td>\n",
       "      <td>0.14</td>\n",
       "      <td>183.18</td>\n",
       "      <td>52.17</td>\n",
       "      <td>494319.25</td>\n",
       "      <td>1379038.73</td>\n",
       "      <td>Junction</td>\n",
       "    </tr>\n",
       "    <tr>\n",
       "      <th>...</th>\n",
       "      <td>...</td>\n",
       "      <td>...</td>\n",
       "      <td>...</td>\n",
       "      <td>...</td>\n",
       "      <td>...</td>\n",
       "      <td>...</td>\n",
       "      <td>...</td>\n",
       "      <td>...</td>\n",
       "    </tr>\n",
       "    <tr>\n",
       "      <th>12501</th>\n",
       "      <td>168:00:00</td>\n",
       "      <td>8740</td>\n",
       "      <td>2.72</td>\n",
       "      <td>183.22</td>\n",
       "      <td>53.39</td>\n",
       "      <td>498610.53</td>\n",
       "      <td>1377395.64</td>\n",
       "      <td>Junction</td>\n",
       "    </tr>\n",
       "    <tr>\n",
       "      <th>12502</th>\n",
       "      <td>168:00:00</td>\n",
       "      <td>8742</td>\n",
       "      <td>0.34</td>\n",
       "      <td>183.22</td>\n",
       "      <td>53.39</td>\n",
       "      <td>500278.43</td>\n",
       "      <td>1379108.07</td>\n",
       "      <td>Junction</td>\n",
       "    </tr>\n",
       "    <tr>\n",
       "      <th>12503</th>\n",
       "      <td>168:00:00</td>\n",
       "      <td>8744</td>\n",
       "      <td>0.02</td>\n",
       "      <td>183.22</td>\n",
       "      <td>53.39</td>\n",
       "      <td>500550.37</td>\n",
       "      <td>1379053.32</td>\n",
       "      <td>Junction</td>\n",
       "    </tr>\n",
       "    <tr>\n",
       "      <th>12504</th>\n",
       "      <td>168:00:00</td>\n",
       "      <td>8746</td>\n",
       "      <td>0.00</td>\n",
       "      <td>183.22</td>\n",
       "      <td>55.53</td>\n",
       "      <td>500947.50</td>\n",
       "      <td>1378286.76</td>\n",
       "      <td>Junction</td>\n",
       "    </tr>\n",
       "    <tr>\n",
       "      <th>12505</th>\n",
       "      <td>168:00:00</td>\n",
       "      <td>8792</td>\n",
       "      <td>0.00</td>\n",
       "      <td>183.22</td>\n",
       "      <td>54.16</td>\n",
       "      <td>500703.60</td>\n",
       "      <td>1377013.26</td>\n",
       "      <td>Junction</td>\n",
       "    </tr>\n",
       "  </tbody>\n",
       "</table>\n",
       "<p>12506 rows × 8 columns</p>\n",
       "</div>"
      ],
      "text/plain": [
       "            hour  nodeID  demand_value  head_value  pressure_value      x_pos  \\\n",
       "0        0:00:00    8596          0.00      183.18           53.44  494155.35   \n",
       "1        0:00:00    8598          0.00      183.18           52.08  494320.25   \n",
       "2        0:00:00    8600          0.79      183.18           52.29  494495.39   \n",
       "3        0:00:00    8602          0.02      183.18           53.37  494813.77   \n",
       "4        0:00:00    8604          0.14      183.18           52.17  494319.25   \n",
       "...          ...     ...           ...         ...             ...        ...   \n",
       "12501  168:00:00    8740          2.72      183.22           53.39  498610.53   \n",
       "12502  168:00:00    8742          0.34      183.22           53.39  500278.43   \n",
       "12503  168:00:00    8744          0.02      183.22           53.39  500550.37   \n",
       "12504  168:00:00    8746          0.00      183.22           55.53  500947.50   \n",
       "12505  168:00:00    8792          0.00      183.22           54.16  500703.60   \n",
       "\n",
       "            y_pos node_type  \n",
       "0      1379384.78  Junction  \n",
       "1      1379386.96  Junction  \n",
       "2      1379463.39  Junction  \n",
       "3      1379459.41  Junction  \n",
       "4      1379038.73  Junction  \n",
       "...           ...       ...  \n",
       "12501  1377395.64  Junction  \n",
       "12502  1379108.07  Junction  \n",
       "12503  1379053.32  Junction  \n",
       "12504  1378286.76  Junction  \n",
       "12505  1377013.26  Junction  \n",
       "\n",
       "[12506 rows x 8 columns]"
      ]
     },
     "execution_count": 27,
     "metadata": {},
     "output_type": "execute_result"
    }
   ],
   "source": [
    "dataset"
   ]
  },
  {
   "cell_type": "code",
   "execution_count": 29,
   "id": "cddf34d3",
   "metadata": {},
   "outputs": [
    {
     "data": {
      "text/plain": [
       "array([8596, 8598, 8600, 8602, 8604, 8606, 8608, 8616, 8618, 8620, 8622,\n",
       "       8624, 8626, 8628, 8630, 8632, 8634, 8636, 8638, 8640, 8642, 8644,\n",
       "       8646, 8648, 8650, 8652, 8654, 8656, 8658, 8660, 8662, 8664, 8666,\n",
       "       8668, 8670, 8672, 8674, 8676, 8678, 8680, 8682, 8684, 8686, 8688,\n",
       "       8690, 8692, 8694, 8696, 8698, 8700, 8702, 8704, 8706, 8708, 8710,\n",
       "       8712, 8714, 8716, 8718, 8720, 8722, 8724, 8726, 8728, 8730, 8732,\n",
       "       8734, 8736, 8738, 8740, 8742, 8744, 8746, 8792])"
      ]
     },
     "execution_count": 29,
     "metadata": {},
     "output_type": "execute_result"
    }
   ],
   "source": [
    "dataset.nodeID.unique()"
   ]
  },
  {
   "cell_type": "code",
   "execution_count": 30,
   "id": "7bf1ac9a",
   "metadata": {},
   "outputs": [
    {
     "data": {
      "text/html": [
       "<div>\n",
       "<style scoped>\n",
       "    .dataframe tbody tr th:only-of-type {\n",
       "        vertical-align: middle;\n",
       "    }\n",
       "\n",
       "    .dataframe tbody tr th {\n",
       "        vertical-align: top;\n",
       "    }\n",
       "\n",
       "    .dataframe thead th {\n",
       "        text-align: right;\n",
       "    }\n",
       "</style>\n",
       "<table border=\"1\" class=\"dataframe\">\n",
       "  <thead>\n",
       "    <tr style=\"text-align: right;\">\n",
       "      <th></th>\n",
       "      <th>hour</th>\n",
       "      <th>nodeID</th>\n",
       "      <th>demand_value</th>\n",
       "      <th>head_value</th>\n",
       "      <th>pressure_value</th>\n",
       "      <th>x_pos</th>\n",
       "      <th>y_pos</th>\n",
       "      <th>node_type</th>\n",
       "    </tr>\n",
       "  </thead>\n",
       "  <tbody>\n",
       "    <tr>\n",
       "      <th>0</th>\n",
       "      <td>0:00:00</td>\n",
       "      <td>8596</td>\n",
       "      <td>0.0</td>\n",
       "      <td>183.18</td>\n",
       "      <td>53.44</td>\n",
       "      <td>494155.35</td>\n",
       "      <td>1379384.78</td>\n",
       "      <td>Junction</td>\n",
       "    </tr>\n",
       "    <tr>\n",
       "      <th>74</th>\n",
       "      <td>1:00:00</td>\n",
       "      <td>8596</td>\n",
       "      <td>0.0</td>\n",
       "      <td>183.04</td>\n",
       "      <td>53.37</td>\n",
       "      <td>494155.35</td>\n",
       "      <td>1379384.78</td>\n",
       "      <td>Junction</td>\n",
       "    </tr>\n",
       "    <tr>\n",
       "      <th>148</th>\n",
       "      <td>2:00:00</td>\n",
       "      <td>8596</td>\n",
       "      <td>0.0</td>\n",
       "      <td>182.42</td>\n",
       "      <td>53.11</td>\n",
       "      <td>494155.35</td>\n",
       "      <td>1379384.78</td>\n",
       "      <td>Junction</td>\n",
       "    </tr>\n",
       "    <tr>\n",
       "      <th>222</th>\n",
       "      <td>3:00:00</td>\n",
       "      <td>8596</td>\n",
       "      <td>0.0</td>\n",
       "      <td>183.97</td>\n",
       "      <td>53.78</td>\n",
       "      <td>494155.35</td>\n",
       "      <td>1379384.78</td>\n",
       "      <td>Junction</td>\n",
       "    </tr>\n",
       "    <tr>\n",
       "      <th>296</th>\n",
       "      <td>4:00:00</td>\n",
       "      <td>8596</td>\n",
       "      <td>0.0</td>\n",
       "      <td>183.66</td>\n",
       "      <td>53.64</td>\n",
       "      <td>494155.35</td>\n",
       "      <td>1379384.78</td>\n",
       "      <td>Junction</td>\n",
       "    </tr>\n",
       "    <tr>\n",
       "      <th>...</th>\n",
       "      <td>...</td>\n",
       "      <td>...</td>\n",
       "      <td>...</td>\n",
       "      <td>...</td>\n",
       "      <td>...</td>\n",
       "      <td>...</td>\n",
       "      <td>...</td>\n",
       "      <td>...</td>\n",
       "    </tr>\n",
       "    <tr>\n",
       "      <th>12136</th>\n",
       "      <td>164:00:00</td>\n",
       "      <td>8596</td>\n",
       "      <td>0.0</td>\n",
       "      <td>182.24</td>\n",
       "      <td>53.03</td>\n",
       "      <td>494155.35</td>\n",
       "      <td>1379384.78</td>\n",
       "      <td>Junction</td>\n",
       "    </tr>\n",
       "    <tr>\n",
       "      <th>12210</th>\n",
       "      <td>165:00:00</td>\n",
       "      <td>8596</td>\n",
       "      <td>0.0</td>\n",
       "      <td>183.52</td>\n",
       "      <td>53.58</td>\n",
       "      <td>494155.35</td>\n",
       "      <td>1379384.78</td>\n",
       "      <td>Junction</td>\n",
       "    </tr>\n",
       "    <tr>\n",
       "      <th>12284</th>\n",
       "      <td>166:00:00</td>\n",
       "      <td>8596</td>\n",
       "      <td>0.0</td>\n",
       "      <td>183.92</td>\n",
       "      <td>53.75</td>\n",
       "      <td>494155.35</td>\n",
       "      <td>1379384.78</td>\n",
       "      <td>Junction</td>\n",
       "    </tr>\n",
       "    <tr>\n",
       "      <th>12358</th>\n",
       "      <td>167:00:00</td>\n",
       "      <td>8596</td>\n",
       "      <td>0.0</td>\n",
       "      <td>184.51</td>\n",
       "      <td>54.01</td>\n",
       "      <td>494155.35</td>\n",
       "      <td>1379384.78</td>\n",
       "      <td>Junction</td>\n",
       "    </tr>\n",
       "    <tr>\n",
       "      <th>12432</th>\n",
       "      <td>168:00:00</td>\n",
       "      <td>8596</td>\n",
       "      <td>0.0</td>\n",
       "      <td>183.23</td>\n",
       "      <td>53.46</td>\n",
       "      <td>494155.35</td>\n",
       "      <td>1379384.78</td>\n",
       "      <td>Junction</td>\n",
       "    </tr>\n",
       "  </tbody>\n",
       "</table>\n",
       "<p>169 rows × 8 columns</p>\n",
       "</div>"
      ],
      "text/plain": [
       "            hour  nodeID  demand_value  head_value  pressure_value      x_pos  \\\n",
       "0        0:00:00    8596           0.0      183.18           53.44  494155.35   \n",
       "74       1:00:00    8596           0.0      183.04           53.37  494155.35   \n",
       "148      2:00:00    8596           0.0      182.42           53.11  494155.35   \n",
       "222      3:00:00    8596           0.0      183.97           53.78  494155.35   \n",
       "296      4:00:00    8596           0.0      183.66           53.64  494155.35   \n",
       "...          ...     ...           ...         ...             ...        ...   \n",
       "12136  164:00:00    8596           0.0      182.24           53.03  494155.35   \n",
       "12210  165:00:00    8596           0.0      183.52           53.58  494155.35   \n",
       "12284  166:00:00    8596           0.0      183.92           53.75  494155.35   \n",
       "12358  167:00:00    8596           0.0      184.51           54.01  494155.35   \n",
       "12432  168:00:00    8596           0.0      183.23           53.46  494155.35   \n",
       "\n",
       "            y_pos node_type  \n",
       "0      1379384.78  Junction  \n",
       "74     1379384.78  Junction  \n",
       "148    1379384.78  Junction  \n",
       "222    1379384.78  Junction  \n",
       "296    1379384.78  Junction  \n",
       "...           ...       ...  \n",
       "12136  1379384.78  Junction  \n",
       "12210  1379384.78  Junction  \n",
       "12284  1379384.78  Junction  \n",
       "12358  1379384.78  Junction  \n",
       "12432  1379384.78  Junction  \n",
       "\n",
       "[169 rows x 8 columns]"
      ]
     },
     "execution_count": 30,
     "metadata": {},
     "output_type": "execute_result"
    }
   ],
   "source": [
    "dataset[dataset.nodeID == 8596]"
   ]
  },
  {
   "cell_type": "code",
   "execution_count": 35,
   "id": "dd7ed4ec",
   "metadata": {},
   "outputs": [
    {
     "data": {
      "text/plain": [
       "nodeID\n",
       "8596      0.00\n",
       "8598      0.00\n",
       "8600    133.01\n",
       "8602      3.58\n",
       "8604     23.12\n",
       "         ...  \n",
       "8740    618.03\n",
       "8742     77.40\n",
       "8744      3.54\n",
       "8746      0.00\n",
       "8792      0.00\n",
       "Name: demand_value, Length: 74, dtype: float64"
      ]
     },
     "execution_count": 35,
     "metadata": {},
     "output_type": "execute_result"
    }
   ],
   "source": [
    "dataset.groupby('nodeID').demand_value.sum()"
   ]
  },
  {
   "cell_type": "code",
   "execution_count": 39,
   "id": "64ca29e6",
   "metadata": {},
   "outputs": [
    {
     "data": {
      "text/plain": [
       "<AxesSubplot:xlabel='hour'>"
      ]
     },
     "execution_count": 39,
     "metadata": {},
     "output_type": "execute_result"
    },
    {
     "data": {
      "image/png": "[encoded data removed]",
      "text/plain": [
       "<Figure size 432x288 with 1 Axes>"
      ]
     },
     "metadata": {
      "needs_background": "light"
     },
     "output_type": "display_data"
    }
   ],
   "source": [
    "dataset[dataset.nodeID == 8742].set_index('hour')['demand_value'].plot()"
   ]
  },
  {
   "cell_type": "code",
   "execution_count": 37,
   "id": "97ffd4b5",
   "metadata": {},
   "outputs": [
    {
     "data": {
      "text/plain": [
       "<AxesSubplot:xlabel='hour'>"
      ]
     },
     "execution_count": 37,
     "metadata": {},
     "output_type": "execute_result"
    },
    {
     "data": {
      "image/png": "[encoded data removed]",
      "text/plain": [
       "<Figure size 432x288 with 1 Axes>"
      ]
     },
     "metadata": {
      "needs_background": "light"
     },
     "output_type": "display_data"
    }
   ],
   "source": [
    "dataset[dataset.nodeID == 8740].set_index('hour')['demand_value'].plot()"
   ]
  },
  {
   "cell_type": "code",
   "execution_count": 36,
   "id": "d6dd7da9",
   "metadata": {},
   "outputs": [
    {
     "data": {
      "text/plain": [
       "<AxesSubplot:xlabel='hour'>"
      ]
     },
     "execution_count": 36,
     "metadata": {},
     "output_type": "execute_result"
    },
    {
     "data": {
      "image/png": "[encoded data removed]",
      "text/plain": [
       "<Figure size 432x288 with 1 Axes>"
      ]
     },
     "metadata": {
      "needs_background": "light"
     },
     "output_type": "display_data"
    }
   ],
   "source": [
    "dataset[dataset.nodeID == 8600].set_index('hour')['demand_value'].plot()"
   ]
  },
  {
   "cell_type": "code",
   "execution_count": 34,
   "id": "e04e1812",
   "metadata": {},
   "outputs": [
    {
     "data": {
      "text/plain": [
       "<AxesSubplot:xlabel='hour'>"
      ]
     },
     "execution_count": 34,
     "metadata": {},
     "output_type": "execute_result"
    },
    {
     "data": {
      "image/png": "[encoded data removed]",
      "text/plain": [
       "<Figure size 432x288 with 1 Axes>"
      ]
     },
     "metadata": {
      "needs_background": "light"
     },
     "output_type": "display_data"
    }
   ],
   "source": [
    "dataset.set_index('hour')['demand_value'].plot()"
   ]
  },
  {
   "cell_type": "code",
   "execution_count": null,
   "id": "0baf42b2",
   "metadata": {},
   "outputs": [],
   "source": []
  }
 ],
 "metadata": {
  "kernelspec": {
   "display_name": "Python 3 (ipykernel)",
   "language": "python",
   "name": "python3"
  },
  "language_info": {
   "codemirror_mode": {
    "name": "ipython",
    "version": 3
   },
   "file_extension": ".py",
   "mimetype": "text/x-python",
   "name": "python",
   "nbconvert_exporter": "python",
   "pygments_lexer": "ipython3",
   "version": "3.8.10"
  }
 },
 "nbformat": 4,
 "nbformat_minor": 5
}
