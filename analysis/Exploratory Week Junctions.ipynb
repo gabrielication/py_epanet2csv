{
 "cells": [
  {
   "cell_type": "code",
   "execution_count": 2,
   "id": "583b5c79",
   "metadata": {},
   "outputs": [],
   "source": [
    "import pandas as pd"
   ]
  },
  {
   "cell_type": "code",
   "execution_count": 7,
   "id": "55778fde",
   "metadata": {},
   "outputs": [],
   "source": [
    "dataset = pd.read_csv('extracted_links.csv',\n",
    "                      header=None, index_col=False,\n",
    "                      names=['hour', 'pipeID', 'pipe_flow', 'pipe_velocity', 'pipe_headloss', 'start_node', 'end_node', 'node_type'])"
   ]
  },
  {
   "cell_type": "code",
   "execution_count": 8,
   "id": "1b991cf0",
   "metadata": {},
   "outputs": [
    {
     "data": {
      "text/html": [
       "<div>\n",
       "<style scoped>\n",
       "    .dataframe tbody tr th:only-of-type {\n",
       "        vertical-align: middle;\n",
       "    }\n",
       "\n",
       "    .dataframe tbody tr th {\n",
       "        vertical-align: top;\n",
       "    }\n",
       "\n",
       "    .dataframe thead th {\n",
       "        text-align: right;\n",
       "    }\n",
       "</style>\n",
       "<table border=\"1\" class=\"dataframe\">\n",
       "  <thead>\n",
       "    <tr style=\"text-align: right;\">\n",
       "      <th></th>\n",
       "      <th>hour</th>\n",
       "      <th>pipeID</th>\n",
       "      <th>pipe_flow</th>\n",
       "      <th>pipe_velocity</th>\n",
       "      <th>pipe_headloss</th>\n",
       "      <th>start_node</th>\n",
       "      <th>end_node</th>\n",
       "      <th>node_type</th>\n",
       "    </tr>\n",
       "  </thead>\n",
       "  <tbody>\n",
       "    <tr>\n",
       "      <th>0</th>\n",
       "      <td>0:00:00</td>\n",
       "      <td>10101</td>\n",
       "      <td>24.82</td>\n",
       "      <td>0.07</td>\n",
       "      <td>0.0</td>\n",
       "      <td>8596</td>\n",
       "      <td>8598</td>\n",
       "      <td>Pipe</td>\n",
       "    </tr>\n",
       "    <tr>\n",
       "      <th>1</th>\n",
       "      <td>0:00:00</td>\n",
       "      <td>10103</td>\n",
       "      <td>18.02</td>\n",
       "      <td>0.05</td>\n",
       "      <td>0.0</td>\n",
       "      <td>8598</td>\n",
       "      <td>8600</td>\n",
       "      <td>Pipe</td>\n",
       "    </tr>\n",
       "    <tr>\n",
       "      <th>2</th>\n",
       "      <td>0:00:00</td>\n",
       "      <td>10105</td>\n",
       "      <td>17.22</td>\n",
       "      <td>0.05</td>\n",
       "      <td>0.0</td>\n",
       "      <td>8600</td>\n",
       "      <td>8602</td>\n",
       "      <td>Pipe</td>\n",
       "    </tr>\n",
       "    <tr>\n",
       "      <th>3</th>\n",
       "      <td>0:00:00</td>\n",
       "      <td>10107</td>\n",
       "      <td>6.80</td>\n",
       "      <td>0.04</td>\n",
       "      <td>0.0</td>\n",
       "      <td>8598</td>\n",
       "      <td>8604</td>\n",
       "      <td>Pipe</td>\n",
       "    </tr>\n",
       "    <tr>\n",
       "      <th>4</th>\n",
       "      <td>0:00:00</td>\n",
       "      <td>10109</td>\n",
       "      <td>6.67</td>\n",
       "      <td>0.04</td>\n",
       "      <td>0.0</td>\n",
       "      <td>8604</td>\n",
       "      <td>8606</td>\n",
       "      <td>Pipe</td>\n",
       "    </tr>\n",
       "    <tr>\n",
       "      <th>...</th>\n",
       "      <td>...</td>\n",
       "      <td>...</td>\n",
       "      <td>...</td>\n",
       "      <td>...</td>\n",
       "      <td>...</td>\n",
       "      <td>...</td>\n",
       "      <td>...</td>\n",
       "      <td>...</td>\n",
       "    </tr>\n",
       "    <tr>\n",
       "      <th>13008</th>\n",
       "      <td>168:00:00</td>\n",
       "      <td>10251</td>\n",
       "      <td>0.34</td>\n",
       "      <td>0.01</td>\n",
       "      <td>0.0</td>\n",
       "      <td>8714</td>\n",
       "      <td>8742</td>\n",
       "      <td>Pipe</td>\n",
       "    </tr>\n",
       "    <tr>\n",
       "      <th>13009</th>\n",
       "      <td>168:00:00</td>\n",
       "      <td>10253</td>\n",
       "      <td>0.02</td>\n",
       "      <td>0.00</td>\n",
       "      <td>0.0</td>\n",
       "      <td>8720</td>\n",
       "      <td>8744</td>\n",
       "      <td>Pipe</td>\n",
       "    </tr>\n",
       "    <tr>\n",
       "      <th>13010</th>\n",
       "      <td>168:00:00</td>\n",
       "      <td>10255</td>\n",
       "      <td>-0.00</td>\n",
       "      <td>0.00</td>\n",
       "      <td>0.0</td>\n",
       "      <td>8732</td>\n",
       "      <td>8746</td>\n",
       "      <td>Pipe</td>\n",
       "    </tr>\n",
       "    <tr>\n",
       "      <th>13011</th>\n",
       "      <td>168:00:00</td>\n",
       "      <td>10257</td>\n",
       "      <td>-1.21</td>\n",
       "      <td>0.01</td>\n",
       "      <td>0.0</td>\n",
       "      <td>8710</td>\n",
       "      <td>8682</td>\n",
       "      <td>Pipe</td>\n",
       "    </tr>\n",
       "    <tr>\n",
       "      <th>13012</th>\n",
       "      <td>168:00:00</td>\n",
       "      <td>10305</td>\n",
       "      <td>0.00</td>\n",
       "      <td>0.00</td>\n",
       "      <td>0.0</td>\n",
       "      <td>8792</td>\n",
       "      <td>8736</td>\n",
       "      <td>Pipe</td>\n",
       "    </tr>\n",
       "  </tbody>\n",
       "</table>\n",
       "<p>13013 rows × 8 columns</p>\n",
       "</div>"
      ],
      "text/plain": [
       "            hour  pipeID  pipe_flow  pipe_velocity  pipe_headloss  start_node  \\\n",
       "0        0:00:00   10101      24.82           0.07            0.0        8596   \n",
       "1        0:00:00   10103      18.02           0.05            0.0        8598   \n",
       "2        0:00:00   10105      17.22           0.05            0.0        8600   \n",
       "3        0:00:00   10107       6.80           0.04            0.0        8598   \n",
       "4        0:00:00   10109       6.67           0.04            0.0        8604   \n",
       "...          ...     ...        ...            ...            ...         ...   \n",
       "13008  168:00:00   10251       0.34           0.01            0.0        8714   \n",
       "13009  168:00:00   10253       0.02           0.00            0.0        8720   \n",
       "13010  168:00:00   10255      -0.00           0.00            0.0        8732   \n",
       "13011  168:00:00   10257      -1.21           0.01            0.0        8710   \n",
       "13012  168:00:00   10305       0.00           0.00            0.0        8792   \n",
       "\n",
       "       end_node node_type  \n",
       "0          8598      Pipe  \n",
       "1          8600      Pipe  \n",
       "2          8602      Pipe  \n",
       "3          8604      Pipe  \n",
       "4          8606      Pipe  \n",
       "...         ...       ...  \n",
       "13008      8742      Pipe  \n",
       "13009      8744      Pipe  \n",
       "13010      8746      Pipe  \n",
       "13011      8682      Pipe  \n",
       "13012      8736      Pipe  \n",
       "\n",
       "[13013 rows x 8 columns]"
      ]
     },
     "execution_count": 8,
     "metadata": {},
     "output_type": "execute_result"
    }
   ],
   "source": [
    "dataset"
   ]
  },
  {
   "cell_type": "code",
   "execution_count": 9,
   "id": "cddf34d3",
   "metadata": {},
   "outputs": [
    {
     "data": {
      "text/plain": [
       "array([10101, 10103, 10105, 10107, 10109, 10111, 10113, 10119, 10121,\n",
       "       10123, 10125, 10127, 10129, 10131, 10133, 10135, 10137, 10139,\n",
       "       10141, 10143, 10145, 10147, 10149, 10151, 10153, 10155, 10157,\n",
       "       10159, 10161, 10163, 10165, 10167, 10169, 10171, 10173, 10175,\n",
       "       10177, 10179, 10181, 10183, 10185, 10187, 10189, 10191, 10193,\n",
       "       10195, 10197, 10199, 10201, 10203, 10205, 10207, 10209, 10211,\n",
       "       10213, 10215, 10219, 10221, 10223, 10225, 10227, 10229, 10231,\n",
       "       10233, 10235, 10237, 10239, 10241, 10243, 10245, 10247, 10249,\n",
       "       10251, 10253, 10255, 10257, 10305])"
      ]
     },
     "execution_count": 9,
     "metadata": {},
     "output_type": "execute_result"
    }
   ],
   "source": [
    "dataset.pipeID.unique()"
   ]
  },
  {
   "cell_type": "code",
   "execution_count": 11,
   "id": "dd7ed4ec",
   "metadata": {},
   "outputs": [
    {
     "data": {
      "text/plain": [
       "pipeID\n",
       "10101    4165.20\n",
       "10103    3023.37\n",
       "10105    2890.32\n",
       "10107    1141.86\n",
       "10109    1118.71\n",
       "          ...   \n",
       "10251      77.40\n",
       "10253       3.54\n",
       "10255       0.00\n",
       "10257    -274.41\n",
       "10305       2.61\n",
       "Name: pipe_flow, Length: 77, dtype: float64"
      ]
     },
     "execution_count": 11,
     "metadata": {},
     "output_type": "execute_result"
    }
   ],
   "source": [
    "dataset.groupby('pipeID').pipe_flow.sum()"
   ]
  },
  {
   "cell_type": "code",
   "execution_count": 12,
   "id": "64ca29e6",
   "metadata": {},
   "outputs": [
    {
     "data": {
      "text/plain": [
       "<AxesSubplot:xlabel='hour'>"
      ]
     },
     "execution_count": 12,
     "metadata": {},
     "output_type": "execute_result"
    },
    {
     "data": {
      "image/png": "[encoded data removed]",
      "text/plain": [
       "<Figure size 432x288 with 1 Axes>"
      ]
     },
     "metadata": {
      "needs_background": "light"
     },
     "output_type": "display_data"
    }
   ],
   "source": [
    "dataset[dataset.pipeID == 10101].set_index('hour')['pipe_flow'].plot()"
   ]
  },
  {
   "cell_type": "code",
   "execution_count": 14,
   "id": "97ffd4b5",
   "metadata": {},
   "outputs": [
    {
     "data": {
      "text/plain": [
       "<AxesSubplot:xlabel='hour'>"
      ]
     },
     "execution_count": 14,
     "metadata": {},
     "output_type": "execute_result"
    },
    {
     "data": {
      "image/png": "[encoded data removed]",
      "text/plain": [
       "<Figure size 432x288 with 1 Axes>"
      ]
     },
     "metadata": {
      "needs_background": "light"
     },
     "output_type": "display_data"
    }
   ],
   "source": [
    "dataset[dataset.pipeID == 10257].set_index('hour')['pipe_flow'].plot()"
   ]
  },
  {
   "cell_type": "code",
   "execution_count": null,
   "id": "0baf42b2",
   "metadata": {},
   "outputs": [],
   "source": []
  }
 ],
 "metadata": {
  "kernelspec": {
   "display_name": "Python 3 (ipykernel)",
   "language": "python",
   "name": "python3"
  },
  "language_info": {
   "codemirror_mode": {
    "name": "ipython",
    "version": 3
   },
   "file_extension": ".py",
   "mimetype": "text/x-python",
   "name": "python",
   "nbconvert_exporter": "python",
   "pygments_lexer": "ipython3",
   "version": "3.8.10"
  }
 },
 "nbformat": 4,
 "nbformat_minor": 5
}
